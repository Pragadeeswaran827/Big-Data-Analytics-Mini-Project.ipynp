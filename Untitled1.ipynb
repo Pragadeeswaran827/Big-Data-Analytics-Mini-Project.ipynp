{
 "cells": [
  {
   "cell_type": "code",
   "execution_count": 1,
   "id": "3ab73626-2142-41b4-86d1-fe47b1a839b7",
   "metadata": {},
   "outputs": [
    {
     "data": {
      "text/html": [
       "<div>\n",
       "<style scoped>\n",
       "    .dataframe tbody tr th:only-of-type {\n",
       "        vertical-align: middle;\n",
       "    }\n",
       "\n",
       "    .dataframe tbody tr th {\n",
       "        vertical-align: top;\n",
       "    }\n",
       "\n",
       "    .dataframe thead th {\n",
       "        text-align: right;\n",
       "    }\n",
       "</style>\n",
       "<table border=\"1\" class=\"dataframe\">\n",
       "  <thead>\n",
       "    <tr style=\"text-align: right;\">\n",
       "      <th></th>\n",
       "      <th>Entity</th>\n",
       "      <th>Code</th>\n",
       "      <th>Year</th>\n",
       "      <th>Renewables (% equivalent primary energy)</th>\n",
       "    </tr>\n",
       "  </thead>\n",
       "  <tbody>\n",
       "    <tr>\n",
       "      <th>0</th>\n",
       "      <td>Africa</td>\n",
       "      <td>NaN</td>\n",
       "      <td>1965</td>\n",
       "      <td>5.747495</td>\n",
       "    </tr>\n",
       "    <tr>\n",
       "      <th>1</th>\n",
       "      <td>Africa</td>\n",
       "      <td>NaN</td>\n",
       "      <td>1966</td>\n",
       "      <td>6.122062</td>\n",
       "    </tr>\n",
       "    <tr>\n",
       "      <th>2</th>\n",
       "      <td>Africa</td>\n",
       "      <td>NaN</td>\n",
       "      <td>1967</td>\n",
       "      <td>6.325731</td>\n",
       "    </tr>\n",
       "    <tr>\n",
       "      <th>3</th>\n",
       "      <td>Africa</td>\n",
       "      <td>NaN</td>\n",
       "      <td>1968</td>\n",
       "      <td>7.005293</td>\n",
       "    </tr>\n",
       "    <tr>\n",
       "      <th>4</th>\n",
       "      <td>Africa</td>\n",
       "      <td>NaN</td>\n",
       "      <td>1969</td>\n",
       "      <td>7.956088</td>\n",
       "    </tr>\n",
       "  </tbody>\n",
       "</table>\n",
       "</div>"
      ],
      "text/plain": [
       "   Entity Code  Year  Renewables (% equivalent primary energy)\n",
       "0  Africa  NaN  1965                                  5.747495\n",
       "1  Africa  NaN  1966                                  6.122062\n",
       "2  Africa  NaN  1967                                  6.325731\n",
       "3  Africa  NaN  1968                                  7.005293\n",
       "4  Africa  NaN  1969                                  7.956088"
      ]
     },
     "execution_count": 1,
     "metadata": {},
     "output_type": "execute_result"
    }
   ],
   "source": [
    "import pandas as pd\n",
    "df = pd.read_csv('01 renewable-share-energy.csv')\n",
    "# or for Excel: pd.read_excel('renewable_energy.xlsx')\n",
    "df.head()"
   ]
  },
  {
   "cell_type": "code",
   "execution_count": 2,
   "id": "5f051322-92b3-45e4-b637-2d6a72bbc64e",
   "metadata": {},
   "outputs": [
    {
     "name": "stdout",
     "output_type": "stream",
     "text": [
      "<class 'pandas.core.frame.DataFrame'>\n",
      "RangeIndex: 5603 entries, 0 to 5602\n",
      "Data columns (total 4 columns):\n",
      " #   Column                                    Non-Null Count  Dtype  \n",
      "---  ------                                    --------------  -----  \n",
      " 0   Entity                                    5603 non-null   object \n",
      " 1   Code                                      4292 non-null   object \n",
      " 2   Year                                      5603 non-null   int64  \n",
      " 3   Renewables (% equivalent primary energy)  5603 non-null   float64\n",
      "dtypes: float64(1), int64(1), object(2)\n",
      "memory usage: 175.2+ KB\n",
      "None\n",
      "              Year  Renewables (% equivalent primary energy)\n",
      "count  5603.000000                               5603.000000\n",
      "mean   1993.800821                                 10.735585\n",
      "std      16.283556                                 12.923945\n",
      "min    1965.000000                                  0.000000\n",
      "25%    1980.000000                                  1.980135\n",
      "50%    1994.000000                                  6.522184\n",
      "75%    2008.000000                                 14.099622\n",
      "max    2021.000000                                 86.874535\n"
     ]
    }
   ],
   "source": [
    "print(df.info())\n",
    "print(df.describe())\n"
   ]
  },
  {
   "cell_type": "code",
   "execution_count": null,
   "id": "c229d37c-9ca1-4031-9707-6b4d22605175",
   "metadata": {},
   "outputs": [],
   "source": [
    "print(df.isnull().sum())\n"
   ]
  }
 ],
 "metadata": {
  "kernelspec": {
   "display_name": "Python [conda env:base] *",
   "language": "python",
   "name": "conda-base-py"
  },
  "language_info": {
   "codemirror_mode": {
    "name": "ipython",
    "version": 3
   },
   "file_extension": ".py",
   "mimetype": "text/x-python",
   "name": "python",
   "nbconvert_exporter": "python",
   "pygments_lexer": "ipython3",
   "version": "3.13.5"
  }
 },
 "nbformat": 4,
 "nbformat_minor": 5
}
